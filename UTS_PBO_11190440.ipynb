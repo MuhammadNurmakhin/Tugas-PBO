{
 "cells": [
  {
   "cell_type": "code",
   "execution_count": null,
   "metadata": {},
   "outputs": [
    {
     "name": "stdout",
     "output_type": "stream",
     "text": [
      "Program Python Hitung Luas & Volume Silinder\n",
      "---------------muhammadnurmakhin.com---------------\n",
      "Masukan Jari-jarinya  : 28\n",
      "Masukan Tinggginya  : 35\n",
      "-----------------Hasilnya-----------------\n",
      "Volume Silinder         = 86240.0\n",
      "Luas Permukaan Silinder = 11088.0\n"
     ]
    }
   ],
   "source": [
    "print(\"Program Python Hitung Luas & Volume Silinder\") #sebagai judul dalam pembuatan program di python\n",
    "print(\"---------------muhammadnurmakhin.com---------------\") #sebagai judul nama pembuat dalam pembuatan program di pytho\n",
    "\n",
    "for i in iter(int,1): #perulangan yang digunakan\n",
    "    pi = 22/7 #rumus patokan yng berkelipatan 7\n",
    "    jari = float(input(\"Masukan Jari-jarinya  : \")) #perintah memasukan jari-jari\n",
    "    tinggi = float(input(\"Masukan Tinggginya  : \")) #perintah memasukan tinggi\n",
    "    volume = pi*jari*jari*tinggi #rumus menghitung volume Silinder\n",
    "    luas = 2*pi*jari*(jari+tinggi)     #rumus menghitung luas permukaan Silinder  \n",
    "    print(\"-----------------Hasilnya-----------------\") #untuk menampilkan perintah \n",
    "    print(\"Volume Silinder         =\", volume) #Cetak memakai \"{:.2f}\".format(volume) kenapa? penambahan \"{:.2f}\".format(), membatasi 2 karakter dibelakang koma.\n",
    "    print(\"Luas Permukaan Silinder =\", luas) #Cetak memakai \"{:.2f}\".format(volume) kenapa? penambahan \"{:.2f}\".format(), membatasi 2 karakter dibelakang koma.\n",
    "    ulang=input(\"Menghitung lagi?(y/t)\") #perintah untuk mengulangi dalam perhitungan Silinder \n",
    "    if ulang == \"t\": #perintah dimana memberikan arti jika tidak melakukan perhitungan lagi maka akan berhenti tidak menghitung lagi.\n",
    "        break #selesai tidak melakukan perhitungan lagi.\n"
   ]
  },
  {
   "cell_type": "code",
   "execution_count": null,
   "metadata": {},
   "outputs": [],
   "source": []
  },
  {
   "cell_type": "code",
   "execution_count": null,
   "metadata": {},
   "outputs": [],
   "source": []
  }
 ],
 "metadata": {
  "kernelspec": {
   "display_name": "Python 3",
   "language": "python",
   "name": "python3"
  },
  "language_info": {
   "codemirror_mode": {
    "name": "ipython",
    "version": 3
   },
   "file_extension": ".py",
   "mimetype": "text/x-python",
   "name": "python",
   "nbconvert_exporter": "python",
   "pygments_lexer": "ipython3",
   "version": "3.8.3"
  }
 },
 "nbformat": 4,
 "nbformat_minor": 4
}
